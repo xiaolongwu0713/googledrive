{
 "cells": [
  {
   "cell_type": "code",
   "execution_count": 1,
   "metadata": {},
   "outputs": [],
   "source": [
    "import pandas as pd\n",
    "from torch.utils.data import DataLoader,Dataset, Subset\n",
    "import numpy as np\n",
    "import tft_model\n",
    "from data_formatters import ts_dataset  \n",
    "import data_formatters.base\n",
    "import expt_settings.configs\n",
    "import importlib\n",
    "from data_formatters import utils\n",
    "import torch.optim as optim\n"
   ]
  },
  {
   "cell_type": "code",
   "execution_count": 2,
   "metadata": {},
   "outputs": [],
   "source": [
    "pd.set_option('max_columns', 1000)"
   ]
  },
  {
   "cell_type": "code",
   "execution_count": 3,
   "metadata": {},
   "outputs": [
    {
     "data": {
      "text/plain": [
       "<module 'data_formatters.utils' from '/Users/long/Documents/BCI/python_scripts/googleDrive/examples/Temporal_Fusion_Transform-master/data_formatters/utils.py'>"
      ]
     },
     "execution_count": 3,
     "metadata": {},
     "output_type": "execute_result"
    }
   ],
   "source": [
    "importlib.reload(tft_model)\n",
    "importlib.reload(utils)"
   ]
  },
  {
   "cell_type": "code",
   "execution_count": 6,
   "metadata": {},
   "outputs": [
    {
     "name": "stdout",
     "output_type": "stream",
     "text": [
      "*** Training from defined parameters for electricity ***\n",
      "Loading & splitting data...\n"
     ]
    },
    {
     "name": "stderr",
     "output_type": "stream",
     "text": [
      "/usr/local/venv/3.6.9/lib/python3.6/site-packages/numpy/lib/arraysetops.py:580: FutureWarning: elementwise comparison failed; returning scalar instead, but in the future will perform elementwise comparison\n",
      "  mask |= (ar1 == a)\n"
     ]
    },
    {
     "name": "stdout",
     "output_type": "stream",
     "text": [
      "Formatting train-valid-test splits.\n",
      "Setting scalers with training data...\n"
     ]
    }
   ],
   "source": [
    "ExperimentConfig = expt_settings.configs.ExperimentConfig\n",
    "\n",
    "config = ExperimentConfig('electricity', 'outputs')\n",
    "data_formatter = config.make_data_formatter()\n",
    "\n",
    "\n",
    "print(\"*** Training from defined parameters for {} ***\".format('electricity'))\n",
    "data_csv_path = 'data/hourly_electricity.csv'\n",
    "print(\"Loading & splitting data...\")\n",
    "raw_data = pd.read_csv(data_csv_path, index_col=0)\n",
    "train, valid, test = data_formatter.split_data(raw_data)\n",
    "train_samples, valid_samples = data_formatter.get_num_samples_for_calibration(\n",
    ")\n",
    "\n",
    "# Sets up default params\n",
    "fixed_params = data_formatter.get_experiment_params()\n",
    "params = data_formatter.get_default_model_params()"
   ]
  },
  {
   "cell_type": "code",
   "execution_count": 7,
   "metadata": {},
   "outputs": [
    {
     "data": {
      "text/plain": [
       "369"
      ]
     },
     "execution_count": 7,
     "metadata": {},
     "output_type": "execute_result"
    }
   ],
   "source": [
    "len(train.id.unique())"
   ]
  },
  {
   "cell_type": "code",
   "execution_count": 8,
   "metadata": {},
   "outputs": [
    {
     "ename": "TypeError",
     "evalue": "__init__() missing 2 required positional arguments: 'output_size' and 'data'",
     "output_type": "error",
     "traceback": [
      "\u001b[0;31m---------------------------------------------------------------------------\u001b[0m",
      "\u001b[0;31mTypeError\u001b[0m                                 Traceback (most recent call last)",
      "\u001b[0;32m<ipython-input-8-25566ad11c64>\u001b[0m in \u001b[0;36m<module>\u001b[0;34m\u001b[0m\n\u001b[1;32m     11\u001b[0m elect = ts_dataset.TSDataset(id_col, time_col, input_cols,\n\u001b[1;32m     12\u001b[0m                       \u001b[0mtarget_col\u001b[0m\u001b[0;34m,\u001b[0m \u001b[0mtime_steps\u001b[0m\u001b[0;34m,\u001b[0m \u001b[0mmax_samples\u001b[0m\u001b[0;34m,\u001b[0m\u001b[0;34m\u001b[0m\u001b[0;34m\u001b[0m\u001b[0m\n\u001b[0;32m---> 13\u001b[0;31m                      input_size, num_encoder_steps, output_size, train)\n\u001b[0m",
      "\u001b[0;31mTypeError\u001b[0m: __init__() missing 2 required positional arguments: 'output_size' and 'data'"
     ]
    }
   ],
   "source": [
    "id_col = 'categorical_id'\n",
    "time_col='hours_from_start'\n",
    "input_cols =['power_usage', 'hour', 'day_of_week', 'hours_from_start', 'categorical_id']\n",
    "target_col = 'power_usage'\n",
    "time_steps=192\n",
    "num_encoder_steps = 168\n",
    "output_size = 1\n",
    "max_samples = 1000\n",
    "input_size = 5\n",
    "\n",
    "elect = ts_dataset.TSDataset(id_col, time_col, input_cols,\n",
    "                      target_col, time_steps, max_samples,\n",
    "                     input_size, num_encoder_steps, output_size, train)"
   ]
  },
  {
   "cell_type": "code",
   "execution_count": 7,
   "metadata": {},
   "outputs": [],
   "source": [
    "batch_size=64\n",
    "loader = DataLoader(\n",
    "            elect,\n",
    "            batch_size=batch_size,\n",
    "            num_workers=2,\n",
    "            shuffle=True\n",
    "        )"
   ]
  },
  {
   "cell_type": "code",
   "execution_count": 8,
   "metadata": {},
   "outputs": [],
   "source": [
    "for batch in loader:\n",
    "    break"
   ]
  },
  {
   "cell_type": "code",
   "execution_count": 9,
   "metadata": {},
   "outputs": [],
   "source": [
    "static_cols = ['meter']\n",
    "categorical_cols = ['hour']\n",
    "real_cols = ['power_usage','hour', 'day']\n",
    "config = {}\n",
    "config['static_variables'] = len(static_cols)\n",
    "config['time_varying_categoical_variables'] = 1\n",
    "config['time_varying_real_variables_encoder'] = 4\n",
    "config['time_varying_real_variables_decoder'] = 3\n",
    "config['num_masked_series'] = 1\n",
    "config['static_embedding_vocab_sizes'] = [369]\n",
    "config['time_varying_embedding_vocab_sizes'] = [369]\n",
    "config['embedding_dim'] = 8\n",
    "config['lstm_hidden_dimension'] = 160\n",
    "config['lstm_layers'] = 1\n",
    "config['dropout'] = 0.05\n",
    "config['device'] = 'cpu'\n",
    "config['batch_size'] = 64\n",
    "config['encode_length'] = 168\n",
    "config['attn_heads'] = 4\n",
    "config['num_quantiles'] = 3\n",
    "config['vailid_quantiles'] = [0.1,0.5,0.9]"
   ]
  },
  {
   "cell_type": "code",
   "execution_count": 23,
   "metadata": {},
   "outputs": [],
   "source": [
    "model = tft_model.TFT(config)\n"
   ]
  },
  {
   "cell_type": "code",
   "execution_count": 11,
   "metadata": {},
   "outputs": [
    {
     "name": "stderr",
     "output_type": "stream",
     "text": [
      "/Users/matthewsherar/Developer/Temporal Fusion Transformer/tft_model.py:146: UserWarning: Implicit dimension choice for softmax has been deprecated. Change the call to include dim=X as an argument.\n",
      "  sparse_weights = self.softmax(sparse_weights).unsqueeze(2)\n"
     ]
    }
   ],
   "source": [
    "output,encoder_output, decoder_output, \\\n",
    "attn,attn_output_weights, \\\n",
    "static_embedding, embeddings_encoder, embeddings_decoder = model.forward(batch)"
   ]
  },
  {
   "cell_type": "code",
   "execution_count": 12,
   "metadata": {},
   "outputs": [
    {
     "data": {
      "text/plain": [
       "torch.Size([64, 24, 3])"
      ]
     },
     "execution_count": 12,
     "metadata": {},
     "output_type": "execute_result"
    }
   ],
   "source": [
    "output.shape"
   ]
  },
  {
   "cell_type": "code",
   "execution_count": 24,
   "metadata": {},
   "outputs": [],
   "source": [
    "q_loss_func = tft_model.QuantileLoss([0.1,0.5,0.9])"
   ]
  },
  {
   "cell_type": "code",
   "execution_count": null,
   "metadata": {},
   "outputs": [],
   "source": [
    "optimizer = optim.Adam(model.parameters(), lr=0.0001)\n",
    "model.train()\n",
    "epochs=10\n",
    "losses = []\n",
    "for i in range(epochs):\n",
    "    epoch_loss = [] \n",
    "    j=0\n",
    "    for batch in loader:\n",
    "        output, encoder_ouput, decoder_output, attn, attn_weights = model(batch)\n",
    "        loss= q_loss_func(output[:,:,:].view(-1,3), batch['outputs'][:,:,0].flatten().float())\n",
    "        loss.backward()\n",
    "        optimizer.step()\n",
    "        epoch_loss.append(loss.item())\n",
    "        j+=1\n",
    "        if j>5:\n",
    "            break\n",
    "    losses.append(np.mean(epoch_loss))\n",
    "    print(np.mean(epoch_loss))\n",
    "    "
   ]
  },
  {
   "cell_type": "code",
   "execution_count": 26,
   "metadata": {},
   "outputs": [],
   "source": [
    "output, encoder_ouput, decoder_output, attn, attn_weights = model(batch)\n"
   ]
  },
  {
   "cell_type": "code",
   "execution_count": 37,
   "metadata": {},
   "outputs": [
    {
     "name": "stdout",
     "output_type": "stream",
     "text": [
      "56\n"
     ]
    },
    {
     "data": {
      "text/plain": [
       "<matplotlib.legend.Legend at 0x1c597eba8>"
      ]
     },
     "execution_count": 37,
     "metadata": {},
     "output_type": "execute_result"
    },
    {
     "data": {
      "image/png": "[encoded data removed]",
      "text/plain": [
       "<Figure size 432x288 with 1 Axes>"
      ]
     },
     "metadata": {
      "needs_background": "light"
     },
     "output_type": "display_data"
    }
   ],
   "source": [
    "import matplotlib.pyplot as plt\n",
    "import numpy as np\n",
    "\n",
    "ind = np.random.choice(64)\n",
    "print(ind)\n",
    "plt.plot(output[ind,:,0].detach().cpu().numpy(), label='pred_1')\n",
    "plt.plot(output[ind,:,1].detach().cpu().numpy(), label='pred_5')\n",
    "plt.plot(output[ind,:,2].detach().cpu().numpy(), label='pred_9')\n",
    "\n",
    "plt.plot(batch['outputs'][ind,:,0], label='true')\n",
    "plt.legend()"
   ]
  },
  {
   "cell_type": "code",
   "execution_count": 224,
   "metadata": {},
   "outputs": [
    {
     "data": {
      "text/plain": [
       "torch.Size([64, 192, 192])"
      ]
     },
     "execution_count": 224,
     "metadata": {},
     "output_type": "execute_result"
    }
   ],
   "source": [
    "attn_weights.shape"
   ]
  },
  {
   "cell_type": "code",
   "execution_count": 225,
   "metadata": {},
   "outputs": [
    {
     "data": {
      "text/plain": [
       "<matplotlib.image.AxesImage at 0x183a836d8>"
      ]
     },
     "execution_count": 225,
     "metadata": {},
     "output_type": "execute_result"
    },
    {
     "data": {
      "image/png": "[encoded data removed]",
      "text/plain": [
       "<Figure size 288x288 with 1 Axes>"
      ]
     },
     "metadata": {
      "needs_background": "light"
     },
     "output_type": "display_data"
    }
   ],
   "source": [
    "plt.matshow(attn_weights.detach().numpy()[0,:,:])"
   ]
  },
  {
   "cell_type": "code",
   "execution_count": 226,
   "metadata": {},
   "outputs": [
    {
     "data": {
      "text/plain": [
       "<matplotlib.image.AxesImage at 0x183ab13c8>"
      ]
     },
     "execution_count": 226,
     "metadata": {},
     "output_type": "execute_result"
    },
    {
     "data": {
      "image/png": "[encoded data removed]",
      "text/plain": [
       "<Figure size 432x288 with 1 Axes>"
      ]
     },
     "metadata": {
      "needs_background": "light"
     },
     "output_type": "display_data"
    }
   ],
   "source": [
    "plt.imshow(attn_weights.detach().numpy()[0,:,:])"
   ]
  },
  {
   "cell_type": "code",
   "execution_count": null,
   "metadata": {},
   "outputs": [],
   "source": []
  }
 ],
 "metadata": {
  "kernelspec": {
   "display_name": "3.6.9",
   "language": "python",
   "name": "3.6.9"
  },
  "language_info": {
   "codemirror_mode": {
    "name": "ipython",
    "version": 3
   },
   "file_extension": ".py",
   "mimetype": "text/x-python",
   "name": "python",
   "nbconvert_exporter": "python",
   "pygments_lexer": "ipython3",
   "version": "3.6.9"
  }
 },
 "nbformat": 4,
 "nbformat_minor": 4
}
