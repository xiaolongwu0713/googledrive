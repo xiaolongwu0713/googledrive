{
 "cells": [
  {
   "cell_type": "code",
   "execution_count": null,
   "metadata": {
    "tags": []
   },
   "outputs": [],
   "source": [
    "!pip install --user stg \n",
    "# If you are running this notebook on Google Colab, please reset the current python environment via 'Runtime -> Restart runtime' after installation."
   ]
  },
  {
   "cell_type": "code",
   "execution_count": 8,
   "metadata": {},
   "outputs": [],
   "source": [
    "from stg import STG\n",
    "import stg.utils as utils\n",
    "import numpy as np\n",
    "import torch\n",
    "import time"
   ]
  },
  {
   "cell_type": "markdown",
   "metadata": {},
   "source": [
    "## Prepare dataset"
   ]
  },
  {
   "cell_type": "code",
   "execution_count": 3,
   "metadata": {},
   "outputs": [],
   "source": [
    "datasets = utils.load_cox_gaussian_data()"
   ]
  },
  {
   "cell_type": "markdown",
   "metadata": {},
   "source": [
    "'datasets' should have a following structure: \n",
    "\n",
    "```{python}\n",
    "    datasets = {'train': {'x': (n_train, d) observations (dtype = float32), \n",
    "                          't': (n_train) event times (dtype = float32),\n",
    "                          'e': (n_train) event indicators (dtype = int32)},\n",
    "                'test': {'x': (n_test, d) observations (dtype = float32), \n",
    "                          't': (n_test) event times (dtype = float32),\n",
    "                          'e': (n_test) event indicators (dtype = int32)},\n",
    "                'valid': {'x': (n_valid, d) observations (dtype = float32), \n",
    "                          't': (n_valid) event times (dtype = float32),\n",
    "                          'e': (n_valid) event indicators (dtype = int32)}}\n",
    "```"
   ]
  },
  {
   "cell_type": "markdown",
   "metadata": {},
   "source": [
    "## Standardize dataset "
   ]
  },
  {
   "cell_type": "code",
   "execution_count": 5,
   "metadata": {},
   "outputs": [],
   "source": [
    "train_data = datasets['train']\n",
    "norm_vals = {\n",
    "        'mean' : datasets['train']['x'].mean(axis=0),\n",
    "        'std'  : datasets['train']['x'].std(axis=0)\n",
    "    }\n",
    "test_data = datasets['test']\n",
    "\n",
    "# standardize\n",
    "train_data = utils.standardize_dataset(datasets['train'], norm_vals['mean'],                                           norm_vals['std'])\n",
    "valid_data = utils.standardize_dataset(datasets['valid'], norm_vals['mean'],                                           norm_vals['std'])\n",
    "test_data = utils.standardize_dataset(datasets['test'], norm_vals['mean'],                                            norm_vals['std'])\n",
    "\n",
    "train_X = train_data['x']\n",
    "train_y = {'e': train_data['e'], 't': train_data['t']}\n",
    "valid_X = valid_data['x']\n",
    "valid_y = {'e': valid_data['e'], 't': valid_data['t']}\n",
    "test_X = test_data['x']\n",
    "test_y = {'e': test_data['e'], 't': test_data['t']}\n",
    "\n",
    "train_data={}\n",
    "train_data['X'], train_data['E'], \\\n",
    "        train_data['T'] = utils.prepare_data(train_X, train_y)\n",
    "train_data['ties'] = 'noties'\n",
    "\n",
    "valid_data={}\n",
    "valid_data['X'], valid_data['E'], \\\n",
    "        valid_data['T'] = utils.prepare_data(valid_X, valid_y)\n",
    "valid_data['ties'] = 'noties'\n",
    "\n",
    "test_data = {}\n",
    "test_data['X'], test_data['E'], \\\n",
    "        test_data['T'] = utils.prepare_data(test_X, test_y)\n",
    "test_data['ties'] = 'noties'"
   ]
  },
  {
   "cell_type": "markdown",
   "metadata": {},
   "source": [
    "## Instantiate the STG trainer"
   ]
  },
  {
   "cell_type": "code",
   "execution_count": 12,
   "metadata": {
    "tags": []
   },
   "outputs": [],
   "source": [
    "device = \"cpu\" \n",
    "feature_selection = True \n",
    "\n",
    "model = STG(task_type='cox',input_dim=train_data['X'].shape[1], output_dim=1, hidden_dims=[60, 20, 3], activation='selu',\n",
    "    optimizer='Adam', learning_rate=0.0005, batch_size=train_data['X'].shape[0], feature_selection=feature_selection, \n",
    "    sigma=0.5, lam=0.004, random_state=1, device=device)\n",
    "#model.save_checkpoint(filename='tmp.pth')"
   ]
  },
  {
   "cell_type": "markdown",
   "metadata": {},
   "source": [
    "## Training"
   ]
  },
  {
   "cell_type": "code",
   "execution_count": null,
   "metadata": {},
   "outputs": [],
   "source": [
    "now = time.time()\n",
    "model.fit(train_data['X'], {'E': train_data['E'], 'T': train_data['T']}, nr_epochs=600, \n",
    "        valid_X=valid_data['X'], valid_y={'E': valid_data['E'], 'T': valid_data['T']}, print_interval=100)\n",
    "print(\"Passed time: {}\".format(time.time() - now))\n"
   ]
  },
  {
   "cell_type": "markdown",
   "metadata": {},
   "source": [
    "## Evaluating the model"
   ]
  },
  {
   "cell_type": "code",
   "execution_count": 13,
   "metadata": {
    "tags": []
   },
   "outputs": [
    {
     "output_type": "stream",
     "name": "stdout",
     "text": "test_CI=0.510212 test_loss=6.600657\n"
    }
   ],
   "source": [
    "model.evaluate(test_data['X'], {'E': test_data['E'], 'T': test_data['T']})"
   ]
  },
  {
   "cell_type": "code",
   "execution_count": 11,
   "metadata": {},
   "outputs": [
    {
     "output_type": "execute_result",
     "data": {
      "text/plain": "array([0.17999333, 0.17464066, 0.18207976, 0.1616241 , 0.15998313,\n       0.16988853, 0.18346652, 0.15973818, 0.17987254, 0.16981307],\n      dtype=float32)"
     },
     "metadata": {},
     "execution_count": 11
    }
   ],
   "source": [
    "model.get_gates(mode='prob')"
   ]
  },
  {
   "cell_type": "markdown",
   "metadata": {},
   "source": [
    "## Saving and loading"
   ]
  },
  {
   "cell_type": "code",
   "execution_count": 14,
   "metadata": {},
   "outputs": [],
   "source": [
    "model.save_checkpoint('trained_model.pt')"
   ]
  },
  {
   "cell_type": "code",
   "execution_count": 15,
   "metadata": {},
   "outputs": [],
   "source": [
    "model_tmp = STG(task_type='cox',input_dim=train_data['X'].shape[1], output_dim=1, hidden_dims=[60, 20, 3], activation='selu',\n",
    "    optimizer='Adam', learning_rate=0.0005, batch_size=train_data['X'].shape[0], feature_selection=feature_selection, \n",
    "    sigma=0.5, lam=0.004, random_state=1, device=device)"
   ]
  },
  {
   "cell_type": "code",
   "execution_count": 16,
   "metadata": {
    "tags": []
   },
   "outputs": [
    {
     "output_type": "stream",
     "name": "stderr",
     "text": "Checkpoint loaded: trained_model.pt.\n"
    }
   ],
   "source": [
    "model_tmp.load_checkpoint('trained_model.pt')"
   ]
  },
  {
   "cell_type": "markdown",
   "metadata": {},
   "source": [
    "## Checking the performance of the loaded model"
   ]
  },
  {
   "cell_type": "code",
   "execution_count": 17,
   "metadata": {
    "tags": []
   },
   "outputs": [
    {
     "output_type": "stream",
     "name": "stdout",
     "text": "test_CI=0.510212 test_loss=6.600657\n"
    }
   ],
   "source": [
    "model_tmp.evaluate(test_data['X'], {'E': test_data['E'], 'T': test_data['T']})"
   ]
  }
 ],
 "metadata": {
  "language_info": {
   "codemirror_mode": {
    "name": "ipython",
    "version": 3
   },
   "file_extension": ".py",
   "mimetype": "text/x-python",
   "name": "python",
   "nbconvert_exporter": "python",
   "pygments_lexer": "ipython3",
   "version": "3.7.0-final"
  },
  "orig_nbformat": 2,
  "kernelspec": {
   "name": "python_defaultSpec_1596537384700",
   "display_name": "Python 3.7.0 64-bit ('Rstg': venv)"
  }
 },
 "nbformat": 4,
 "nbformat_minor": 2
}