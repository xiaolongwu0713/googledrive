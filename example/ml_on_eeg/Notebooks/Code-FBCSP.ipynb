{
 "cells": [
  {
   "cell_type": "code",
   "execution_count": 1,
   "metadata": {},
   "outputs": [
    {
     "name": "stderr",
     "output_type": "stream",
     "text": [
      "Using TensorFlow backend.\n"
     ]
    }
   ],
   "source": [
    "#import scipy.sparse as sps\n",
    "from sklearn.linear_model import LogisticRegression\t\n",
    "\n",
    "import scipy.io\n",
    "import numpy as np\n",
    "from scipy import linalg as LA\n",
    "from sklearn.neighbors import KNeighborsClassifier\n",
    "from sklearn.ensemble import RandomForestClassifier\n",
    "#from keras import optimizers\n",
    "import xgboost as xgb\n",
    "from sklearn.naive_bayes import GaussianNB\n",
    "#from sklearn.decomposition import PCA\n",
    "import matplotlib.pyplot as plt\n",
    "#from mlxtend.plotting import plot_decision_regions\n",
    "from sklearn.discriminant_analysis import LinearDiscriminantAnalysis\n",
    "\n",
    "\n",
    "from scipy.signal import butter,lfilter\n",
    "#from sklearn.model_selection import train_test_split\n",
    "from keras.models import Sequential\n",
    "from keras.layers import Dense\n",
    "#from keras import regularizers\n",
    "#from keras import losses\n",
    "from keras import optimizers\n",
    "import sklearn.feature_selection\n",
    "from sklearn.feature_selection import mutual_info_classif\n",
    "#from keras.layers.normalization import BatchNormalization\n",
    "#from keras.layers.core import Dense,Dropout,Activation,Lambda\n",
    "##from pyglmnet import GLM #change pwd to E:\\Brain Machine\\Thesis\\Potential datasets\\BCI Competition 2008 – Graz data set B\\pyglmnet-master\n",
    "#import matplotlib.pyplot as plt\n",
    "import random\n",
    "random.seed(1)\n",
    "\n",
    "import warnings\n",
    "warnings.filterwarnings(\"ignore\")"
   ]
  },
  {
   "cell_type": "markdown",
   "metadata": {},
   "source": [
    "# Classifier"
   ]
  },
  {
   "cell_type": "code",
   "execution_count": 2,
   "metadata": {},
   "outputs": [],
   "source": [
    "def lda(feat_train,labels_train,feat_test):\n",
    "#    print(\"\\nLinear Discriminant Analysis\")\n",
    "    clf=LinearDiscriminantAnalysis()\n",
    "    clf.fit(feat_train,labels_train)\n",
    "    pred_train=clf.predict(feat_train)\n",
    "    pred_test=clf.predict(feat_test)\n",
    "    return pred_train,pred_test    \n",
    "\n",
    "def neural_net(feat_train,ltrain,feat_test,neuron):\n",
    "    ltrain=np.array(ltrain)\n",
    "    ltrain[np.where(ltrain==1)]=0\n",
    "    ltrain[np.where(ltrain==2)]=1\n",
    "#    print(\"\\nSingle layered Feedforward neural network with %d neurons\"%neuron)\n",
    "    model=Sequential()\n",
    "    model.add(Dense(100,input_dim=np.shape(feat_train)[1],\n",
    "                activation='sigmoid',kernel_initializer='uniform'))\n",
    "    #model.add(Dropout(0.05))\n",
    "    #model.add(BatchNormalization())\n",
    "#    model.add(Dense(50,activation='sigmoid',kernel_initializer='uniform'))\n",
    "    ##model.add(BatchNormalizafrom keras.layers import Densetion())\n",
    "    model.add(Dense(90,activation='sigmoid',kernel_initializer='uniform'))\n",
    "    model.add(Dense(15,activation='sigmoid',kernel_initializer='uniform'))\n",
    "    model.add(Dense(1,activation='sigmoid',kernel_initializer='uniform'))\n",
    "    #optim=optimizers.SGD(lr=0.0001)\n",
    "    model.compile(loss='mean_squared_error',optimizer=optimizers.adam(lr=0.0001),metrics=['accuracy'])\n",
    "    model.fit(feat_train,ltrain,verbose=0)\n",
    "\n",
    "    pred_train=(model.predict(feat_train))\n",
    "    \n",
    "    pred_test=(model.predict(feat_test))\n",
    "    return pred_train,pred_test\n",
    "\n",
    "\n",
    "#train_error=np.mean(labels_train!=np.array(pred_train))\n",
    "#print(\"train error:\",train_error)\n",
    "def naive_bayes(feat_train,y_train,feat_test):\n",
    "    gnb=GaussianNB()\n",
    "    pred_train=gnb.fit(feat_train,y_train).predict(feat_train)\n",
    "    pred_test=gnb.fit(feat_train,y_train).predict(feat_test)\n",
    "    return pred_train,pred_test\n",
    "\n",
    "def KNN(feat_train,y_train,feat_test,neighbor):\n",
    "#    print(\"\\n%d-Nearest neighbor\" % neighbor)\n",
    "    neigh = KNeighborsClassifier(n_neighbors=neighbor)\n",
    "    neigh.fit(feat_train, y_train)\n",
    "    pred_train=neigh.predict(feat_train)\n",
    "    pred_test=neigh.predict(feat_test)\n",
    "    return pred_train,pred_test\n",
    "\n",
    "def log_reg(feat_train,y_train,feat_test):\n",
    "#    print(\"\\nLogistic regression\")\n",
    "    clf=LogisticRegression(random_state=0,solver='liblinear',multi_class='ovr').fit(feat_train,y_train)\n",
    "    pred_train=clf.predict(feat_train)  \n",
    "    pred_test=clf.predict(feat_test)    \n",
    "    return pred_train,pred_test\n",
    "\n",
    "def boost(feat_train,y_train,feat_test,depth):\n",
    "#    print(\"\\nXGBOOST max_depth:\",depth)\n",
    "#    clf=xgb.XGBClassifier(max_depth,min_child_weight=1,n_estimators=1000)\n",
    "#    dtrain=xgb.DMatrix(features_train,labels_train)\n",
    "    clf=xgb.XGBClassifier(depth=depth,\n",
    "                seed= 0, #for reproducibility\n",
    "                silent= 1,\n",
    "                learning_rate= 0.05,\n",
    "                n_estimators= 500)\n",
    "    clf.fit(feat_train,y_train,verbose=False)\n",
    "    pred_train=clf.predict(feat_train)\n",
    "    pred_test=clf.predict(feat_test)\n",
    "    return pred_train,pred_test\n",
    "\n",
    "def random_forest(feat_train,labels_train,feat_test,depth):\n",
    "#    print(\"\\nRandom forest with max depth:\",depth)\n",
    "\n",
    "    model=RandomForestClassifier(\n",
    "          max_depth=depth,random_state=0,n_estimators=1500)\n",
    "    #      min_samples_leaf=10,\n",
    "    #      min_weight_fraction_leaf= 0.4,n_estimators= 5000)\n",
    "    model.fit(feat_train,labels_train)\n",
    "    pred_train=model.predict(feat_train)\n",
    "    pred_test=model.predict(feat_test)\n",
    "    return pred_train,pred_test"
   ]
  },
  {
   "cell_type": "markdown",
   "metadata": {},
   "source": [
    "# Band Pass (Butterworth) filter"
   ]
  },
  {
   "cell_type": "code",
   "execution_count": 3,
   "metadata": {},
   "outputs": [],
   "source": [
    "##########################################\n",
    "#band pass butter worth filter\n",
    "def butter_bandpass(lowcut, highcut, fs, order):\n",
    "    nyq = 0.5 * fs\n",
    "    low = lowcut / nyq\n",
    "    high = highcut / nyq\n",
    "    b, a = butter(order, [low, high], btype='band')\n",
    "    return b, a\n",
    "\n",
    "\n",
    "def bandpass_filter(data, lowcut, highcut, fs, order):\n",
    "    b, a = butter_bandpass(lowcut, highcut, fs, order=order)\n",
    "    y = lfilter(b, a, data)\n",
    "    return y\n",
    "########################################"
   ]
  },
  {
   "cell_type": "markdown",
   "metadata": {},
   "source": [
    "# Feature Extraction"
   ]
  },
  {
   "cell_type": "code",
   "execution_count": 4,
   "metadata": {},
   "outputs": [],
   "source": [
    "def covariance(X):\n",
    "    return np.dot(X,X.T)/np.trace(np.dot(X,X.T))\n",
    "\n",
    "def get_feat(data,sf):\n",
    "    return np.log(np.var(np.dot(sf.T,data.T),axis=1)) #check axis\n",
    "\n",
    "def get_spatial(sum_left,sum_right,J):\n",
    "    C=sum_right+sum_left\n",
    "    eigvals,eigvecs=LA.eig(C)\n",
    "#    sort_eigvals=np.sort(eigvals)[::-1]\n",
    "    diag_inv=np.zeros((C.shape[1],C.shape[1]))\n",
    "    for i in range(eigvals.shape[0]):\n",
    "        diag_inv[i,i]=(1/np.abs(eigvals[i].real)) #considering absolute value of the real parts! need to verify if approach is correct  \n",
    "\n",
    "    P=np.sqrt(diag_inv)*eigvecs.T\n",
    "    S_l=P*sum_left*P.T\n",
    "    S_r=P*sum_right*P.T   \n",
    "\n",
    "    E1,U1=LA.eig(S_l,S_r)\n",
    "    ord1 = np.argsort(E1)\n",
    "    ord1 = ord1[::-1]\n",
    "    E1 = E1[ord1]\n",
    "    U1 = U1[:,ord1]\n",
    "    W=np.dot(U1,P)#projection matrix\n",
    "#consider the first 10 columns of W as tzeroshe required feautres \n",
    "#ideally you want to pick the first three features and the last three\n",
    "    W_select=np.zeros([np.shape(W)[0],2*J])\n",
    "    W_select[:,0:J]=W[:,0:J]\n",
    "    W_select[:,J::]=W[:,np.shape(W)[1]-J:np.shape(W)[1]]\n",
    "\n",
    "    return W_select\n"
   ]
  },
  {
   "cell_type": "markdown",
   "metadata": {},
   "source": [
    "Here we are defining the range of frequency bands we want to cover. There is literature that claims having overlapping bands help create better features. The first columns is the lower frequency limit while the second column is the higher frequency limit.  "
   ]
  },
  {
   "cell_type": "code",
   "execution_count": 5,
   "metadata": {},
   "outputs": [
    {
     "name": "stdout",
     "output_type": "stream",
     "text": [
      "(15, 2)\n"
     ]
    }
   ],
   "source": [
    "first_col=[i for i in range(6,13)]\n",
    "second_col=[i for i in range(8,15)]\n",
    "freq=np.zeros([15,2])\n",
    "\n",
    "c=14\n",
    "d=19\n",
    "while(d<=40):\n",
    "  second_col.append(d)\n",
    "  d+=3\n",
    "while(c<=35):\n",
    "  first_col.append(c)\n",
    "  c+=3\n",
    "freq[:,0]=first_col\n",
    "freq[:,1]=second_col\n",
    "print(freq.shape)\n"
   ]
  },
  {
   "cell_type": "code",
   "execution_count": 6,
   "metadata": {},
   "outputs": [
    {
     "name": "stdout",
     "output_type": "stream",
     "text": [
      "Training Features Computed\n",
      " Computing Testing features...\n",
      "Features for training and Testing computed\n"
     ]
    }
   ],
   "source": [
    "num_sub=14\n",
    "features_test=dict()\n",
    "features_train=dict()\n",
    "features_train_tmp=dict()\n",
    "model=dict()\n",
    "labels_train=dict()\n",
    "labels_test=dict()\n",
    "num_channels=15\n",
    "#sum_hand=np.zeros((num_channels,num_channels))\n",
    "#sum_leg=np.zeros((num_channels,num_channels))\n",
    "labels=[]\n",
    "sample_rate=512\n",
    "spatial_filt=dict()\n",
    "num_feat=3 #times 2\n",
    "#freq=[4,8,6,10,8,12,10,14,12,16,14,18,16,20,18,22,20,24,22,26,24,28,26,30]\n",
    "#freq=[8,16,24,32,40] #change according to bands required \n",
    "feat_best=6\n",
    "for sub in range(num_sub): # looping through subjects \n",
    "    features_train[sub]=np.zeros([100,(2*num_feat)])\n",
    "    labels_train[sub]=[]\n",
    "    if (sub+1)<10:    \n",
    "        file_train='/media/prashanth/Work/Brain_Machine/Thesis/Potential_datasets/bnci-horizon/S0%dT.mat'% (sub+1)\n",
    "        mat_train=scipy.io.loadmat(file_train)\n",
    "    else:\n",
    "        file_train='/media/prashanth/Work/Brain_Machine/Thesis/Potential_datasets/bnci-horizon/S%dT.mat'% (sub+1)\n",
    "        mat_train=scipy.io.loadmat(file_train)\n",
    "    data_train=mat_train['data']\n",
    "    spatial_filt[sub]=dict()\n",
    "    key_count=0\n",
    "    for freq_count in range(freq.shape[0]): # loop for frequency\n",
    "        tmp_feat=[]\n",
    "#         lower=freq[freq_count]\n",
    "#         if lower == freq[-1]:\n",
    "#             break\n",
    "#         higher=freq[freq_count+1]\n",
    "#         if lower>higher:\n",
    "#             continue\n",
    "        lower=freq[freq_count,0]\n",
    "        higher=freq[freq_count,1]\n",
    "        sum_hand=np.zeros((num_channels,num_channels))\n",
    "        sum_leg=np.zeros((num_channels,num_channels))\n",
    "        hand=0\n",
    "        leg=0\n",
    "        for k in range(5): #loop through trials\n",
    "            \n",
    "            cell_train=data_train[0][k]\n",
    "            X_train=cell_train[0][0][0]\n",
    "            X_train_filt=bandpass_filter(X_train,lowcut=lower, highcut=higher, fs=512, order=5) #check the sampling rate !!!!\n",
    "            time_train=cell_train[0][0][1][0]##remove last if prob\n",
    "            if freq_count==0:\n",
    "                labels_tmp_train=cell_train[0][0][2]\n",
    "                labels_train[sub].extend(labels_tmp_train[0])\n",
    "            var=0\n",
    "            for l_tmp in range(len(labels_tmp_train[0])):\n",
    "                if labels_tmp_train[0][l_tmp]==1:\n",
    "    #                train_leg[sub].append\n",
    "                    sum_hand+=covariance(X_train_filt[var+int(4.5*sample_rate):var+8*sample_rate,:].T) #transpose because we need num_channel vs num_channel\n",
    "                    hand+=1\n",
    "                else:\n",
    "                    sum_leg+=covariance(X_train_filt[var+int(4.5*sample_rate):var+8*sample_rate,:].T)\n",
    "                    leg+=1\n",
    "                var=time_train[l_tmp] ###add [0] if prob\n",
    "        mean_hand=sum_hand/hand\n",
    "        mean_leg=sum_leg/leg\n",
    "        spatial_filt[sub][key_count]=(get_spatial(mean_hand,mean_leg,num_feat))\n",
    "        \n",
    "        for k in range(5):\n",
    "            cell_train=data_train[0][k]\n",
    "            X_train=cell_train[0][0][0]\n",
    "            X_train_filt=bandpass_filter(X_train,lowcut=lower, highcut=higher, fs=512, order=5) \n",
    "            time_train=cell_train[0][0][1][0] ##remove last if prob\n",
    "            #Computing Spatial features for training\n",
    "            var=0\n",
    "            for count in range(len(time_train)): \n",
    "                tmp=get_feat(X_train_filt[var+int(4.5*sample_rate):var+8*sample_rate,:],np.array(spatial_filt[sub][key_count]))\n",
    "#                if freq_count==0:\n",
    "#                    features_train[sub]=tmp\n",
    "#                else:\n",
    "                tmp_feat.append(tmp)\n",
    "                var=time_train[count] ##remove last if prob\n",
    "                \n",
    "        tmp_feat=np.array(tmp_feat)\n",
    "        if freq_count==0:\n",
    "            features_train[sub]=tmp_feat\n",
    "        else:\n",
    "            features_train[sub]=np.concatenate((features_train[sub],tmp_feat),axis=1)\n",
    "#        print(\"In training:\",key_count)\n",
    "        key_count=key_count+1\n",
    "    model[sub]=sklearn.feature_selection.SelectKBest(mutual_info_classif,k=feat_best).fit(features_train[sub],labels_train[sub])\n",
    "    features_train[sub]=model[sub].transform(features_train[sub])\n",
    "#    np.random.shuffle(features_train[sub])# to introduce randomness shuffle all the features\n",
    "print(\"Training Features Computed\\n Computing Testing features...\")\n",
    "\n",
    "for sub in range(num_sub): \n",
    "    features_test[sub]=[]\n",
    "    labels_test[sub]=[]\n",
    "    if (sub+1)<10:\n",
    "        file_test='/media/prashanth/Work/Brain_Machine/Thesis/Potential_datasets/bnci-horizon/S0%dE.mat'% (sub+1)\n",
    "        mat_test=scipy.io.loadmat(file_test)\n",
    "    else:\n",
    "        file_test='/media/prashanth/Work/Brain_Machine/Thesis/Potential_datasets/bnci-horizon/S%dE.mat'% (sub+1)\n",
    "        mat_test=scipy.io.loadmat(file_test)\n",
    "#    print(\"Mat file read\")\n",
    "    data_test=mat_test['data']\n",
    "    key_count=0\n",
    "    for freq_count in range(freq.shape[0]): # loop for frequency\n",
    "        tmp_feat=[]\n",
    "#         lower=freq[freq_count]\n",
    "#         if lower == freq[-1]:\n",
    "#             break\n",
    "#         higher=freq[freq_count+1]\n",
    "#         if lower>higher:\n",
    "#             continue\n",
    "        lower=freq[freq_count,0]\n",
    "        higher=freq[freq_count,1]\n",
    "        for k in range(3):    \n",
    "            cell_test=data_test[0][k]\n",
    "            X_test=cell_test[0][0][0]\n",
    "            X_test_filt=bandpass_filter(X_test,lowcut=lower, highcut=higher, fs=512, order=5)\n",
    "            time_test=cell_test[0][0][1][0]\n",
    "            if freq_count==0:\n",
    "                labels_tmp_test=cell_test[0][0][2]\n",
    "                labels_test[sub].extend(labels_tmp_test[0])    \n",
    "            #Computing Spatial features for testing\n",
    "            var=0\n",
    "            for count in range(len(time_test)):\n",
    "                tmp=get_feat(X_test_filt[var+int(4.5*sample_rate):var+8*sample_rate,:],np.array(spatial_filt[sub][key_count]))\n",
    "                tmp_feat.append(tmp)\n",
    "                var=time_test[count]\n",
    "                \n",
    "        tmp_feat=np.array(tmp_feat)\n",
    "#        print(\"In testing \",key_count)\n",
    "        key_count=key_count+1\n",
    "        if freq_count==0:\n",
    "            features_test[sub]=tmp_feat\n",
    "        else:\n",
    "            features_test[sub]=np.concatenate((features_test[sub],tmp_feat),axis=1)\n",
    "    features_test[sub]=model[sub].transform(features_test[sub])\n",
    "#    np.random.shuffle(features_test[sub])\n",
    "print(\"Features for training and Testing computed\")\n"
   ]
  },
  {
   "cell_type": "markdown",
   "metadata": {},
   "source": [
    "# Calling all Classifier"
   ]
  },
  {
   "cell_type": "markdown",
   "metadata": {},
   "source": [
    "Important to remember that each classifier is trained on the individual subjects separately.This means that we are training 14(i.e. number of subjects) models"
   ]
  },
  {
   "cell_type": "code",
   "execution_count": 7,
   "metadata": {},
   "outputs": [
    {
     "data": {
      "image/png": "[encoded data removed]",
      "text/plain": [
       "<Figure size 432x288 with 1 Axes>"
      ]
     },
     "metadata": {
      "needs_background": "light"
     },
     "output_type": "display_data"
    },
    {
     "data": {
      "image/png": "[encoded data removed]",
      "text/plain": [
       "<Figure size 432x288 with 1 Axes>"
      ]
     },
     "metadata": {
      "needs_background": "light"
     },
     "output_type": "display_data"
    },
    {
     "data": {
      "image/png": "[encoded data removed]",
      "text/plain": [
       "<Figure size 432x288 with 1 Axes>"
      ]
     },
     "metadata": {
      "needs_background": "light"
     },
     "output_type": "display_data"
    },
    {
     "data": {
      "image/png": "[encoded data removed]",
      "text/plain": [
       "<Figure size 432x288 with 1 Axes>"
      ]
     },
     "metadata": {
      "needs_background": "light"
     },
     "output_type": "display_data"
    },
    {
     "data": {
      "image/png": "[encoded data removed]",
      "text/plain": [
       "<Figure size 432x288 with 1 Axes>"
      ]
     },
     "metadata": {
      "needs_background": "light"
     },
     "output_type": "display_data"
    }
   ],
   "source": [
    "nb_train_err=[]\n",
    "nb_test_err=[]\n",
    "rando_train_err=[]\n",
    "rando_test_err=[]\n",
    "knn_train_err=[]\n",
    "knn_test_err=[]\n",
    "reg_train_err=[]\n",
    "reg_test_err=[]\n",
    "xgb_train_err=[]\n",
    "xgb_test_err=[]\n",
    "nn_train_err=[]\n",
    "nn_test_err=[]\n",
    "for sub in range(num_sub):\n",
    "    xtrain=features_train[sub]\n",
    "    ytrain=labels_train[sub]\n",
    "    xtest=features_test[sub]\n",
    "    ytest=labels_test[sub]\n",
    "    \n",
    "    xgb_tr,xgb_tst=boost(xtrain,ytrain,xtest,depth=2)\n",
    "    xgb_train_err.append(np.mean(ytrain!=xgb_tr))\n",
    "    xgb_test_err.append(np.mean(ytest!=xgb_tst))\n",
    "    \n",
    "    rando_tr,rando_tst=random_forest(xtrain,ytrain,xtest,depth=2)\n",
    "    rando_train_err.append(np.mean(ytrain!=rando_tr))\n",
    "    rando_test_err.append(np.mean(ytest!=rando_tst))\n",
    "    \n",
    "    knn_tr,knn_tst=KNN(xtrain,ytrain,xtest,neighbor=4)\n",
    "    knn_train_err.append(np.mean(ytrain!=knn_tr))\n",
    "    knn_test_err.append(np.mean(ytest!=knn_tst))\n",
    "    \n",
    "    reg_tr,reg_tst=log_reg(xtrain,ytrain,xtest)\n",
    "    reg_train_err.append(np.mean(ytrain!=reg_tr))\n",
    "    reg_test_err.append(np.mean(ytest!=reg_tst))\n",
    "    \n",
    "    nn_tr,nn_tst=neural_net(xtrain,ytrain,xtest,neuron=10)\n",
    "    nn_train_err.append(np.mean(ytrain!=nn_tr))\n",
    "    nn_test_err.append(np.mean(ytest!=nn_tst))\n",
    "    \n",
    "    nb_tr,nb_tst=naive_bayes(xtrain,ytrain,xtest)\n",
    "    nb_train_err.append(np.mean(ytrain!=nb_tr))\n",
    "    nb_test_err.append(np.mean(ytest!=nb_tst))\n",
    "\n",
    "some=[i+1 for i in range(14)]    \n",
    "plt.scatter(some,rando_train_err,label=\"Train\")\n",
    "plt.scatter(some,rando_test_err,label=\"Test\")\n",
    "plt.title(\"Random Forest\")\n",
    "plt.xlabel(\"Subject\")\n",
    "plt.ylabel(\"Error\")\n",
    "plt.legend()\n",
    "plt.show()\n",
    "\n",
    "plt.scatter(some,knn_train_err,label=\"Train\")\n",
    "plt.scatter(some,knn_test_err,label=\"Test\")\n",
    "plt.title(\"4 nearest neighbors\")\n",
    "plt.xlabel(\"Subject\")\n",
    "plt.ylabel(\"Error\")\n",
    "plt.legend()\n",
    "plt.show()\n",
    "\n",
    "plt.scatter(some,reg_train_err,label=\"Train\")\n",
    "plt.scatter(some,reg_test_err,label=\"Test\")\n",
    "plt.title(\"Logistic regression\")\n",
    "plt.xlabel(\"Subject\")\n",
    "plt.ylabel(\"Error\")\n",
    "plt.legend()\n",
    "plt.show()\n",
    "#\n",
    "#plt.plot(some,nn_train_err,label=\"Train\")\n",
    "#plt.plot(some,nn_test_err,label=\"Test\")\n",
    "#plt.title(\"Neural Network\")\n",
    "#plt.legend()\n",
    "#plt.show()\n",
    "\n",
    "plt.scatter(some,xgb_train_err,label=\"Train\")\n",
    "plt.scatter(some,xgb_test_err,label=\"Test\")\n",
    "plt.title(\"XGBoost\")\n",
    "plt.xlabel(\"Subject\")\n",
    "plt.ylabel(\"Error\")\n",
    "plt.legend()\n",
    "plt.show()\n",
    "\n",
    "plt.scatter(some,nb_train_err,label='Train')\n",
    "plt.scatter(some,nb_test_err,label='Test')\n",
    "plt.legend()\n",
    "plt.xlabel(\"Subject\")\n",
    "plt.ylabel(\"Error\")\n",
    "plt.title(\"Naive Bayes\")\n",
    "plt.show()"
   ]
  },
  {
   "cell_type": "code",
   "execution_count": null,
   "metadata": {},
   "outputs": [],
   "source": []
  },
  {
   "cell_type": "code",
   "execution_count": null,
   "metadata": {},
   "outputs": [],
   "source": []
  }
 ],
 "metadata": {
  "kernelspec": {
   "display_name": "Python 3",
   "language": "python",
   "name": "python3"
  },
  "language_info": {
   "codemirror_mode": {
    "name": "ipython",
    "version": 3
   },
   "file_extension": ".py",
   "mimetype": "text/x-python",
   "name": "python",
   "nbconvert_exporter": "python",
   "pygments_lexer": "ipython3",
   "version": "3.6.8"
  }
 },
 "nbformat": 4,
 "nbformat_minor": 2
}
